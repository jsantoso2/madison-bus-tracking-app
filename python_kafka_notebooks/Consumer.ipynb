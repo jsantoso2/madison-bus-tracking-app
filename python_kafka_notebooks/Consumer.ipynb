{
 "cells": [
  {
   "cell_type": "code",
   "execution_count": 1,
   "id": "1652f87e-fff4-4e8b-9561-b711c10c683b",
   "metadata": {},
   "outputs": [],
   "source": [
    "from json import dumps\n",
    "from kafka import KafkaConsumer\n",
    "from time import sleep"
   ]
  },
  {
   "cell_type": "code",
   "execution_count": 2,
   "id": "3d01ef1e-c4bd-4003-9c06-bccb9e7bea18",
   "metadata": {},
   "outputs": [
    {
     "name": "stdout",
     "output_type": "stream",
     "text": [
      "KAFKA_ADDRESS:  10.128.0.3\n"
     ]
    }
   ],
   "source": [
    "## Get KAFKA_ADDRESS\n",
    "KAFKA_ADDRESS = \"10.128.0.3\"\n",
    "KAFKA_TOPIC = \"VehiclePositions\"\n",
    "print(\"KAFKA_ADDRESS: \", KAFKA_ADDRESS)"
   ]
  },
  {
   "cell_type": "code",
   "execution_count": 3,
   "id": "37ba82fa-0998-4cab-83c9-88e9aeccc133",
   "metadata": {},
   "outputs": [],
   "source": [
    "consumer = KafkaConsumer(KAFKA_TOPIC,\n",
    "                         group_id = 'python_consumer_group',\n",
    "                         bootstrap_servers=[KAFKA_ADDRESS + ':9092'],\n",
    "                         sasl_mechanism = 'PLAIN',\n",
    "                         sasl_plain_username= 'admin',\n",
    "                         sasl_plain_password= '2d15dc73ddb202b5bfa5f451bd684ffc25bf651a987cbe6a0f541239e94377db',\n",
    "                         api_version=(0,11,5),\n",
    "                         security_protocol = 'SASL_PLAINTEXT')"
   ]
  },
  {
   "cell_type": "code",
   "execution_count": null,
   "id": "fe2ad9f4-4bee-4dfb-b3d4-4504dfcc3295",
   "metadata": {},
   "outputs": [
    {
     "name": "stdout",
     "output_type": "stream",
     "text": [
      "VehiclePositions:0:36: key=None value=b'{\"id\": \"101\", \"vehicle\": {\"trip\": {\"tripId\": \"1120711\", \"startDate\": \"20230528\", \"routeId\": \"10360\"}, \"position\": {\"latitude\": 43.045647, \"longitude\": -89.38878, \"bearing\": 315.0}, \"timestamp\": \"1685301510\", \"vehicle\": {\"id\": \"2484\", \"label\": \"101\"}, \"occupancyStatus\": \"MANY_SEATS_AVAILABLE\", \"occupancyPercentage\": 20}}'\n",
      "VehiclePositions:0:37: key=None value=b'{\"id\": \"117\", \"vehicle\": {\"trip\": {\"tripId\": \"1120244\", \"startDate\": \"20230528\", \"routeId\": \"10356\"}, \"position\": {\"latitude\": 43.095623, \"longitude\": -89.33844, \"bearing\": 225.0}, \"timestamp\": \"1685301510\", \"vehicle\": {\"id\": \"2501\", \"label\": \"117\"}, \"occupancyStatus\": \"MANY_SEATS_AVAILABLE\", \"occupancyPercentage\": 20}}'\n",
      "VehiclePositions:0:38: key=None value=b'{\"id\": \"119\", \"vehicle\": {\"trip\": {\"tripId\": \"1120980\", \"startDate\": \"20230528\", \"routeId\": \"10362\"}, \"position\": {\"latitude\": 43.047073, \"longitude\": -89.346985, \"bearing\": 90.0}, \"timestamp\": \"1685301487\", \"vehicle\": {\"id\": \"2503\", \"label\": \"119\"}}}'\n",
      "VehiclePositions:0:39: key=None value=b'{\"id\": \"124\", \"vehicle\": {\"trip\": {\"tripId\": \"1120228\", \"startDate\": \"20230528\", \"routeId\": \"10356\"}, \"position\": {\"latitude\": 43.060135, \"longitude\": -89.4245, \"bearing\": 225.0}, \"timestamp\": \"1685301491\", \"vehicle\": {\"id\": \"2508\", \"label\": \"124\"}}}'\n",
      "VehiclePositions:0:40: key=None value=b'{\"id\": \"131\", \"vehicle\": {\"trip\": {\"tripId\": \"1118998\", \"startDate\": \"20230528\", \"routeId\": \"10352\"}, \"position\": {\"latitude\": 43.073277, \"longitude\": -89.417465, \"bearing\": 90.0}, \"timestamp\": \"1685301510\", \"vehicle\": {\"id\": \"2516\", \"label\": \"131\"}, \"occupancyStatus\": \"MANY_SEATS_AVAILABLE\", \"occupancyPercentage\": 20}}'\n",
      "VehiclePositions:0:41: key=None value=b'{\"id\": \"136\", \"vehicle\": {\"trip\": {\"tripId\": \"1119828\", \"startDate\": \"20230528\", \"routeId\": \"10355\"}, \"position\": {\"latitude\": 43.07482, \"longitude\": -89.39202, \"bearing\": 90.0}, \"timestamp\": \"1685301514\", \"vehicle\": {\"id\": \"2521\", \"label\": \"136\"}}}'\n",
      "VehiclePositions:0:42: key=None value=b'{\"id\": \"138\", \"vehicle\": {\"trip\": {\"tripId\": \"1119018\", \"startDate\": \"20230528\", \"routeId\": \"10352\"}, \"position\": {\"latitude\": 43.075413, \"longitude\": -89.45093, \"bearing\": 270.0}, \"timestamp\": \"1685301498\", \"vehicle\": {\"id\": \"2523\", \"label\": \"138\"}, \"occupancyStatus\": \"MANY_SEATS_AVAILABLE\", \"occupancyPercentage\": 40}}'\n",
      "VehiclePositions:0:43: key=None value=b'{\"id\": \"141\", \"vehicle\": {\"trip\": {\"tripId\": \"1122007\", \"startDate\": \"20230528\", \"routeId\": \"10365\"}, \"position\": {\"latitude\": 43.12742, \"longitude\": -89.34927, \"bearing\": 180.0}, \"timestamp\": \"1685301504\", \"vehicle\": {\"id\": \"2526\", \"label\": \"141\"}}}'\n",
      "VehiclePositions:0:44: key=None value=b'{\"id\": \"147\", \"vehicle\": {\"trip\": {\"tripId\": \"1121277\", \"startDate\": \"20230528\", \"routeId\": \"10363\"}, \"position\": {\"latitude\": 43.10614, \"longitude\": -89.33058}, \"timestamp\": \"1685301506\", \"vehicle\": {\"id\": \"2532\", \"label\": \"147\"}, \"occupancyStatus\": \"MANY_SEATS_AVAILABLE\", \"occupancyPercentage\": 20}}'\n",
      "VehiclePositions:0:45: key=None value=b'{\"id\": \"148\", \"vehicle\": {\"trip\": {\"tripId\": \"1119541\", \"startDate\": \"20230528\", \"routeId\": \"10354\"}, \"position\": {\"latitude\": 43.098667, \"longitude\": -89.322105, \"bearing\": 270.0}, \"timestamp\": \"1685301499\", \"vehicle\": {\"id\": \"2533\", \"label\": \"148\"}}}'\n",
      "VehiclePositions:0:46: key=None value=b'{\"id\": \"149\", \"vehicle\": {\"trip\": {\"tripId\": \"1119558\", \"startDate\": \"20230528\", \"routeId\": \"10354\"}, \"position\": {\"latitude\": 43.050854, \"longitude\": -89.39452, \"bearing\": 135.0}, \"timestamp\": \"1685301523\", \"vehicle\": {\"id\": \"2534\", \"label\": \"149\"}}}'\n",
      "VehiclePositions:0:47: key=None value=b'{\"id\": \"152\", \"vehicle\": {\"trip\": {\"tripId\": \"1123957\", \"startDate\": \"20230528\", \"routeId\": \"10386\"}, \"position\": {\"latitude\": 43.03918, \"longitude\": -89.47769}, \"timestamp\": \"1685301496\", \"vehicle\": {\"id\": \"2537\", \"label\": \"152\"}}}'\n",
      "VehiclePositions:0:48: key=None value=b'{\"id\": \"153\", \"vehicle\": {\"trip\": {\"tripId\": \"1118983\", \"startDate\": \"20230528\", \"routeId\": \"10352\"}, \"position\": {\"latitude\": 43.112213, \"longitude\": -89.363754}, \"timestamp\": \"1685301503\", \"vehicle\": {\"id\": \"2538\", \"label\": \"153\"}, \"occupancyStatus\": \"MANY_SEATS_AVAILABLE\"}}'\n",
      "VehiclePositions:0:49: key=None value=b'{\"id\": \"154\", \"vehicle\": {\"trip\": {\"tripId\": \"1125159\", \"startDate\": \"20230528\", \"routeId\": \"10395\"}, \"position\": {\"latitude\": 43.07517, \"longitude\": -89.41258, \"bearing\": 270.0}, \"timestamp\": \"1685301492\", \"vehicle\": {\"id\": \"2539\", \"label\": \"154\"}}}'\n",
      "VehiclePositions:0:50: key=None value=b'{\"id\": \"155\", \"vehicle\": {\"trip\": {\"tripId\": \"1119033\", \"startDate\": \"20230528\", \"routeId\": \"10352\"}, \"position\": {\"latitude\": 43.07525, \"longitude\": -89.385895, \"bearing\": 225.0}, \"timestamp\": \"1685301501\", \"vehicle\": {\"id\": \"2540\", \"label\": \"155\"}}}'\n",
      "VehiclePositions:0:51: key=None value=b'{\"id\": \"157\", \"vehicle\": {\"trip\": {\"tripId\": \"1123124\", \"startDate\": \"20230528\", \"routeId\": \"10372\"}, \"position\": {\"latitude\": 43.092587, \"longitude\": -89.326836, \"bearing\": 180.0}, \"timestamp\": \"1685301516\", \"vehicle\": {\"id\": \"2542\", \"label\": \"157\"}, \"occupancyStatus\": \"MANY_SEATS_AVAILABLE\"}}'\n",
      "VehiclePositions:0:52: key=None value=b'{\"id\": \"158\", \"vehicle\": {\"trip\": {\"tripId\": \"1122253\", \"startDate\": \"20230528\", \"routeId\": \"10366\"}, \"position\": {\"latitude\": 43.131397, \"longitude\": -89.3554, \"bearing\": 180.0}, \"timestamp\": \"1685301492\", \"vehicle\": {\"id\": \"2543\", \"label\": \"158\"}}}'\n",
      "VehiclePositions:0:53: key=None value=b'{\"id\": \"160\", \"vehicle\": {\"trip\": {\"tripId\": \"1123689\", \"startDate\": \"20230528\", \"routeId\": \"10382\"}, \"position\": {\"latitude\": 43.048954, \"longitude\": -89.4962, \"bearing\": 180.0}, \"timestamp\": \"1685301517\", \"vehicle\": {\"id\": \"2545\", \"label\": \"160\"}, \"occupancyStatus\": \"MANY_SEATS_AVAILABLE\", \"occupancyPercentage\": 20}}'\n",
      "VehiclePositions:0:54: key=None value=b'{\"id\": \"1904\", \"vehicle\": {\"trip\": {\"tripId\": \"1119863\", \"startDate\": \"20230528\", \"routeId\": \"10355\"}, \"position\": {\"latitude\": 43.062584, \"longitude\": -89.43631, \"bearing\": 225.0}, \"timestamp\": \"1685301516\", \"vehicle\": {\"id\": \"2549\", \"label\": \"1904\"}, \"occupancyStatus\": \"FULL\", \"occupancyPercentage\": 100}}'\n",
      "VehiclePositions:0:55: key=None value=b'{\"id\": \"1906\", \"vehicle\": {\"trip\": {\"tripId\": \"1119847\", \"startDate\": \"20230528\", \"routeId\": \"10355\"}, \"position\": {\"latitude\": 43.09051, \"longitude\": -89.36185, \"bearing\": 225.0, \"speed\": 13.4112}, \"timestamp\": \"1685301519\", \"vehicle\": {\"id\": \"2551\", \"label\": \"1906\"}, \"occupancyStatus\": \"MANY_SEATS_AVAILABLE\", \"occupancyPercentage\": 20}}'\n",
      "VehiclePositions:0:56: key=None value=b'{\"id\": \"1909\", \"vehicle\": {\"trip\": {\"tripId\": \"1120196\", \"startDate\": \"20230528\", \"routeId\": \"10356\"}, \"position\": {\"latitude\": 43.074757, \"longitude\": -89.3886, \"bearing\": 45.0}, \"timestamp\": \"1685301516\", \"vehicle\": {\"id\": \"2554\", \"label\": \"1909\"}, \"occupancyStatus\": \"MANY_SEATS_AVAILABLE\"}}'\n",
      "VehiclePositions:0:57: key=None value=b'{\"id\": \"1910\", \"vehicle\": {\"trip\": {\"tripId\": \"1123371\", \"startDate\": \"20230528\", \"routeId\": \"10375\"}, \"position\": {\"latitude\": 43.12645, \"longitude\": -89.30709, \"bearing\": 45.0}, \"timestamp\": \"1685301510\", \"vehicle\": {\"id\": \"2555\", \"label\": \"1910\"}}}'\n",
      "VehiclePositions:0:58: key=None value=b'{\"id\": \"1915\", \"vehicle\": {\"trip\": {\"tripId\": \"1124716\", \"startDate\": \"20230528\", \"routeId\": \"10394\"}, \"position\": {\"latitude\": 43.094593, \"longitude\": -89.517235, \"bearing\": 270.0}, \"timestamp\": \"1685301505\", \"vehicle\": {\"id\": \"2560\", \"label\": \"1915\"}}}'\n",
      "VehiclePositions:0:59: key=None value=b'{\"id\": \"2004\", \"vehicle\": {\"trip\": {\"tripId\": \"1124424\", \"startDate\": \"20230528\", \"routeId\": \"10389\"}, \"position\": {\"latitude\": 43.076603, \"longitude\": -89.53216, \"bearing\": 225.0}, \"timestamp\": \"1685301520\", \"vehicle\": {\"id\": \"2566\", \"label\": \"2004\"}}}'\n",
      "VehiclePositions:0:60: key=None value=b'{\"id\": \"2006\", \"vehicle\": {\"trip\": {\"tripId\": \"1124273\", \"startDate\": \"20230528\", \"routeId\": \"10388\"}, \"position\": {\"latitude\": 43.060654, \"longitude\": -89.49605, \"bearing\": 90.0}, \"timestamp\": \"1685301493\", \"vehicle\": {\"id\": \"2568\", \"label\": \"2006\"}, \"occupancyStatus\": \"MANY_SEATS_AVAILABLE\", \"occupancyPercentage\": 20}}'\n",
      "VehiclePositions:0:61: key=None value=b'{\"id\": \"2008\", \"vehicle\": {\"trip\": {\"tripId\": \"1119333\", \"startDate\": \"20230528\", \"routeId\": \"10353\"}, \"position\": {\"latitude\": 43.076263, \"longitude\": -89.37544, \"bearing\": 270.0}, \"timestamp\": \"1685301497\", \"vehicle\": {\"id\": \"2570\", \"label\": \"2008\"}, \"occupancyStatus\": \"MANY_SEATS_AVAILABLE\", \"occupancyPercentage\": 20}}'\n",
      "VehiclePositions:0:62: key=None value=b'{\"id\": \"2014\", \"vehicle\": {\"trip\": {\"tripId\": \"1120530\", \"startDate\": \"20230528\", \"routeId\": \"10357\"}, \"position\": {\"latitude\": 43.071793, \"longitude\": -89.39297, \"bearing\": 90.0}, \"timestamp\": \"1685301482\", \"vehicle\": {\"id\": \"2576\", \"label\": \"2014\"}}}'\n",
      "VehiclePositions:0:63: key=None value=b'{\"id\": \"2202\", \"vehicle\": {\"trip\": {\"tripId\": \"1119813\", \"startDate\": \"20230528\", \"routeId\": \"10355\"}, \"position\": {\"latitude\": 43.12582, \"longitude\": -89.311325, \"bearing\": 45.0}, \"timestamp\": \"1685301514\", \"vehicle\": {\"id\": \"2579\", \"label\": \"2202\"}}}'\n",
      "VehiclePositions:0:64: key=None value=b'{\"id\": \"2203\", \"vehicle\": {\"trip\": {\"tripId\": \"1122530\", \"startDate\": \"20230528\", \"routeId\": \"10369\"}, \"position\": {\"latitude\": 43.126255, \"longitude\": -89.30716, \"bearing\": 45.0}, \"timestamp\": \"1685301520\", \"vehicle\": {\"id\": \"2580\", \"label\": \"2203\"}}}'\n",
      "VehiclePositions:0:65: key=None value=b'{\"id\": \"2204\", \"vehicle\": {\"trip\": {\"tripId\": \"1119316\", \"startDate\": \"20230528\", \"routeId\": \"10353\"}, \"position\": {\"latitude\": 43.074722, \"longitude\": -89.38699, \"bearing\": 90.0}, \"timestamp\": \"1685301516\", \"vehicle\": {\"id\": \"2581\", \"label\": \"2204\"}, \"occupancyStatus\": \"MANY_SEATS_AVAILABLE\", \"occupancyPercentage\": 20}}'\n",
      "VehiclePositions:0:66: key=None value=b'{\"id\": \"2208\", \"vehicle\": {\"trip\": {\"tripId\": \"1122830\", \"startDate\": \"20230528\", \"routeId\": \"10371\"}, \"position\": {\"latitude\": 43.105473, \"longitude\": -89.31629}, \"timestamp\": \"1685301505\", \"vehicle\": {\"id\": \"2585\", \"label\": \"2208\"}}}'\n",
      "VehiclePositions:0:67: key=None value=b'{\"id\": \"2210\", \"vehicle\": {\"trip\": {\"tripId\": \"1124440\", \"startDate\": \"20230528\", \"routeId\": \"10389\"}, \"position\": {\"latitude\": 43.06803, \"longitude\": -89.47706, \"bearing\": 90.0}, \"timestamp\": \"1685301518\", \"vehicle\": {\"id\": \"2587\", \"label\": \"2210\"}, \"occupancyStatus\": \"FULL\", \"occupancyPercentage\": 120}}'\n",
      "VehiclePositions:0:68: key=None value=b'{\"id\": \"2211\", \"vehicle\": {\"trip\": {\"tripId\": \"1121654\", \"startDate\": \"20230528\", \"routeId\": \"10364\"}, \"position\": {\"latitude\": 43.03303, \"longitude\": -89.457466, \"bearing\": 315.0}, \"timestamp\": \"1685301507\", \"vehicle\": {\"id\": \"2588\", \"label\": \"2211\"}}}'\n",
      "VehiclePositions:0:69: key=None value=b'{\"id\": \"2213\", \"vehicle\": {\"trip\": {\"tripId\": \"1121974\", \"startDate\": \"20230528\", \"routeId\": \"10365\"}, \"position\": {\"latitude\": 43.12096, \"longitude\": -89.313576, \"bearing\": 90.0}, \"timestamp\": \"1685301510\", \"vehicle\": {\"id\": \"2590\", \"label\": \"2213\"}}}'\n",
      "VehiclePositions:0:70: key=None value=b'{\"id\": \"2214\", \"vehicle\": {\"trip\": {\"tripId\": \"1120998\", \"startDate\": \"20230528\", \"routeId\": \"10362\"}, \"position\": {\"latitude\": 43.03828, \"longitude\": -89.37931, \"bearing\": 90.0}, \"timestamp\": \"1685301491\", \"vehicle\": {\"id\": \"2591\", \"label\": \"2214\"}, \"occupancyStatus\": \"MANY_SEATS_AVAILABLE\", \"occupancyPercentage\": 20}}'\n",
      "VehiclePositions:0:71: key=None value=b'{\"id\": \"2215\", \"vehicle\": {\"trip\": {\"tripId\": \"1121621\", \"startDate\": \"20230528\", \"routeId\": \"10364\"}, \"position\": {\"latitude\": 43.035465, \"longitude\": -89.45381, \"bearing\": 45.0}, \"timestamp\": \"1685301511\", \"vehicle\": {\"id\": \"2592\", \"label\": \"2215\"}}}'\n"
     ]
    }
   ],
   "source": [
    "for message in consumer:\n",
    "    # message value and key are raw bytes -- decode if necessary!\n",
    "    # e.g., for unicode: `message.value.decode('utf-8')`\n",
    "    print (\"%s:%d:%d: key=%s value=%s\" % (message.topic, message.partition,\n",
    "                                          message.offset, message.key,\n",
    "                                          message.value))"
   ]
  },
  {
   "cell_type": "code",
   "execution_count": null,
   "id": "ff2b8a39-eab5-4da1-9a4c-b82ff3f4fcce",
   "metadata": {},
   "outputs": [],
   "source": []
  },
  {
   "cell_type": "code",
   "execution_count": null,
   "id": "b1353eef-406e-4dd8-9086-60b0f3f0f60f",
   "metadata": {},
   "outputs": [],
   "source": []
  }
 ],
 "metadata": {
  "environment": {
   "kernel": "python3",
   "name": "common-cpu.m108",
   "type": "gcloud",
   "uri": "gcr.io/deeplearning-platform-release/base-cpu:m108"
  },
  "kernelspec": {
   "display_name": "Python 3",
   "language": "python",
   "name": "python3"
  },
  "language_info": {
   "codemirror_mode": {
    "name": "ipython",
    "version": 3
   },
   "file_extension": ".py",
   "mimetype": "text/x-python",
   "name": "python",
   "nbconvert_exporter": "python",
   "pygments_lexer": "ipython3",
   "version": "3.10.10"
  }
 },
 "nbformat": 4,
 "nbformat_minor": 5
}
