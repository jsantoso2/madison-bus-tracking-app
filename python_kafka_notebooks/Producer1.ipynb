{
 "cells": [
  {
   "cell_type": "code",
   "execution_count": null,
   "id": "d3999e21-a901-449c-a287-36c1b560490d",
   "metadata": {},
   "outputs": [],
   "source": [
    "## Get Data Imports\n",
    "from google.transit import gtfs_realtime_pb2\n",
    "from google.protobuf.json_format import MessageToDict\n",
    "import requests\n",
    "\n",
    "## Kafka Imports\n",
    "import json\n",
    "from json import dumps\n",
    "from kafka import KafkaProducer\n",
    "from time import sleep"
   ]
  },
  {
   "cell_type": "code",
   "execution_count": null,
   "id": "68a34428-2387-4d22-bee9-c578eda430c7",
   "metadata": {},
   "outputs": [],
   "source": [
    "## Global Variables\n",
    "URL = 'http://transitdata.cityofmadison.com/Vehicle/VehiclePositions.pb'\n",
    "KAFKA_ADDRESS = '10.128.0.3' ## Internal IP of KafkaVM\n",
    "KAFKA_TOPIC = 'VehiclePositions'"
   ]
  },
  {
   "cell_type": "code",
   "execution_count": null,
   "id": "645b0560-9680-4174-90f6-ec33583952e2",
   "metadata": {},
   "outputs": [],
   "source": [
    "## Get Feed from URL\n",
    "FEED = gtfs_realtime_pb2.FeedMessage()\n",
    "RESPONSE = requests.get(URL)"
   ]
  },
  {
   "cell_type": "code",
   "execution_count": null,
   "id": "1186bb13-fd17-4bb2-966f-931d360a5426",
   "metadata": {},
   "outputs": [],
   "source": [
    "## Kafka Producer\n",
    "producer = KafkaProducer(bootstrap_servers = [KAFKA_ADDRESS + \":9092\"],\n",
    "                      sasl_mechanism = 'PLAIN',\n",
    "                      sasl_plain_username = 'admin',\n",
    "                      sasl_plain_password = '2d15dc73ddb202b5bfa5f451bd684ffc25bf651a987cbe6a0f541239e94377db',\n",
    "                      security_protocol = 'SASL_PLAINTEXT',\n",
    "                      api_version=(0,11,5),\n",
    "                      key_serializer = lambda x: dumps(x).encode('utf-8'),\n",
    "                      value_serializer = lambda x: dumps(x).encode('utf-8'),\n",
    "                      acks = 1, ## Default -> Broker Recieve Ack\n",
    "                      batch_size = 16384, ## Default Value\n",
    "                      compression_type = 'gzip')\n",
    "\n",
    "## Parse Response String\n",
    "FEED.ParseFromString(RESPONSE.content)\n",
    "\n",
    "## Send to Kafka Topic\n",
    "for idx, elem in enumerate(FEED.entity):\n",
    "    print(\"sending index:\", idx)\n",
    "    producer.send(KAFKA_TOPIC, key= {\"id\": elem.id}, value=MessageToDict(elem)).get(timeout=30)"
   ]
  },
  {
   "cell_type": "code",
   "execution_count": null,
   "id": "36569a18-38bf-4e34-a1e2-0248fa20250f",
   "metadata": {},
   "outputs": [],
   "source": [
    "MessageToDict(FEED.entity[-1])"
   ]
  },
  {
   "cell_type": "code",
   "execution_count": null,
   "id": "20b55bfd-93d0-4e50-8cad-4e881c783f58",
   "metadata": {},
   "outputs": [],
   "source": []
  },
  {
   "cell_type": "code",
   "execution_count": null,
   "id": "2dc4008a-4425-4448-9a8e-52ec058c7c22",
   "metadata": {},
   "outputs": [],
   "source": []
  }
 ],
 "metadata": {
  "environment": {
   "kernel": "python3",
   "name": "common-cpu.m108",
   "type": "gcloud",
   "uri": "gcr.io/deeplearning-platform-release/base-cpu:m108"
  },
  "kernelspec": {
   "display_name": "Python 3",
   "language": "python",
   "name": "python3"
  },
  "language_info": {
   "codemirror_mode": {
    "name": "ipython",
    "version": 3
   },
   "file_extension": ".py",
   "mimetype": "text/x-python",
   "name": "python",
   "nbconvert_exporter": "python",
   "pygments_lexer": "ipython3",
   "version": "3.10.10"
  }
 },
 "nbformat": 4,
 "nbformat_minor": 5
}
